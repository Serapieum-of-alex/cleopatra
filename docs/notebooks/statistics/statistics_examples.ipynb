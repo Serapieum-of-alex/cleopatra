{
 "cells": [
  {
   "metadata": {},
   "cell_type": "markdown",
   "source": "# Statistics",
   "id": "8baecea33870ee0d"
  },
  {
   "metadata": {},
   "cell_type": "markdown",
   "source": [
    "- This script demonstrates the usage of the Statistic class from the Cleopatra package.\n",
    "- The Statistic class provides functionality for creating statistical plots, specifically histograms."
   ],
   "id": "212e01aa70be48f1"
  },
  {
   "metadata": {
    "execution": {
     "iopub.execute_input": "2025-06-22T20:51:03.615263Z",
     "iopub.status.busy": "2025-06-22T20:51:03.615263Z",
     "iopub.status.idle": "2025-06-22T20:51:04.656610Z",
     "shell.execute_reply": "2025-06-22T20:51:04.656610Z"
    },
    "ExecuteTime": {
     "end_time": "2025-06-29T14:22:00.661265Z",
     "start_time": "2025-06-29T14:22:00.644902Z"
    }
   },
   "cell_type": "code",
   "source": [
    "import numpy as np\n",
    "from cleopatra.statistical_glyph import StatisticalGlyph\n",
    "\n",
    "# Set the random seed for reproducibility\n",
    "np.random.seed(1)"
   ],
   "id": "4e88a0fd",
   "outputs": [],
   "execution_count": 6
  },
  {
   "metadata": {},
   "cell_type": "markdown",
   "source": [
    "## 1. Creating Histograms with 1D Data\n",
    "- Let's start by creating a histogram for 1D data.\n",
    "- We'll generate some random data and use the Statistic class to create a histogram."
   ],
   "id": "d0e841ee1d4e32c4"
  },
  {
   "metadata": {},
   "cell_type": "markdown",
   "source": "#### Generate 1D data",
   "id": "c688597ed523d1e9"
  },
  {
   "metadata": {
    "ExecuteTime": {
     "end_time": "2025-06-29T14:22:00.687680Z",
     "start_time": "2025-06-29T14:22:00.683010Z"
    }
   },
   "cell_type": "code",
   "source": "data_1d = 4 + np.random.normal(0, 1.5, 200)",
   "id": "84956d3895147db9",
   "outputs": [],
   "execution_count": 7
  },
  {
   "metadata": {},
   "cell_type": "markdown",
   "source": "#### Create a Statistic object with the 1D data",
   "id": "571830b4fd60edb5"
  },
  {
   "metadata": {
    "ExecuteTime": {
     "end_time": "2025-06-29T14:22:00.703685Z",
     "start_time": "2025-06-29T14:22:00.699267Z"
    }
   },
   "cell_type": "code",
   "source": "stat_plot_1d = StatisticalGlyph(data_1d)",
   "id": "3e4b1c63d4994ed3",
   "outputs": [],
   "execution_count": 8
  },
  {
   "metadata": {},
   "cell_type": "markdown",
   "source": "#### Generate a histogram plot for the 1D data",
   "id": "bc692b020e482d86"
  },
  {
   "cell_type": "code",
   "id": "3b7e7acf",
   "metadata": {
    "execution": {
     "iopub.execute_input": "2025-06-22T20:51:04.660702Z",
     "iopub.status.busy": "2025-06-22T20:51:04.659986Z",
     "iopub.status.idle": "2025-06-22T20:51:04.816633Z",
     "shell.execute_reply": "2025-06-22T20:51:04.816633Z"
    },
    "ExecuteTime": {
     "end_time": "2025-06-29T14:22:00.879027Z",
     "start_time": "2025-06-29T14:22:00.773513Z"
    }
   },
   "source": [
    "fig_1d, ax_1d, hist_1d = stat_plot_1d.histogram()\n",
    "\n",
    "# Display information about the histogram\n",
    "print(f\"Number of bins: {len(hist_1d['n'][0])}\")\n",
    "print(f\"Bin counts: {hist_1d['n'][0]}\")\n",
    "print(f\"Bin edges: {hist_1d['bins'][0][:5]}... (showing first 5)\")"
   ],
   "outputs": [
    {
     "data": {
      "text/plain": [
       "<Figure size 500x500 with 1 Axes>"
      ],
      "image/png": "[encoded data removed]"
     },
     "metadata": {},
     "output_type": "display_data"
    },
    {
     "name": "stdout",
     "output_type": "stream",
     "text": [
      "Number of bins: 15\n",
      "Bin counts: [ 2.  4.  3. 10. 11. 20. 30. 27. 31. 25. 17.  8.  5.  6.  1.]\n",
      "Bin edges: [0.34774335 0.8440597  1.34037605 1.8366924  2.33300874]... (showing first 5)\n"
     ]
    }
   ],
   "execution_count": 9
  },
  {
   "metadata": {},
   "cell_type": "markdown",
   "source": [
    "### 1.1 Customizing the Histogram\n",
    "- Now let's customize the histogram by changing the number of bins, color, transparency, and width."
   ],
   "id": "f88d111f15b58220"
  },
  {
   "metadata": {},
   "cell_type": "markdown",
   "source": "#### Create a Statistic object with the 1D data",
   "id": "c74b7fa6d61251aa"
  },
  {
   "metadata": {
    "ExecuteTime": {
     "end_time": "2025-06-29T14:22:00.896751Z",
     "start_time": "2025-06-29T14:22:00.891987Z"
    }
   },
   "cell_type": "code",
   "source": "stat_plot_1d_custom = StatisticalGlyph(data_1d)",
   "id": "1091f3265055d50a",
   "outputs": [],
   "execution_count": 10
  },
  {
   "metadata": {},
   "cell_type": "markdown",
   "source": "#### Generate a customized histogram plot",
   "id": "7c01ea935e0ff980"
  },
  {
   "metadata": {
    "ExecuteTime": {
     "end_time": "2025-06-29T14:22:01.028533Z",
     "start_time": "2025-06-29T14:22:00.912862Z"
    }
   },
   "cell_type": "code",
   "source": [
    "fig_1d_custom, ax_1d_custom, hist_1d_custom = stat_plot_1d_custom.histogram(\n",
    "    bins=20,                # Increase the number of bins\n",
    "    color=[\"#FF5733\"],      # Change the color to orange-red\n",
    "    alpha=0.8,              # Slightly increase transparency\n",
    "    rwidth=0.9,             # Increase the width of the bins\n",
    "    xlabel=\"Values\",         # Add x-axis label\n",
    "    ylabel=\"Frequency\",      # Add y-axis label\n",
    "    xlabel_font_size=12,    # Set x-axis label font size\n",
    "    ylabel_font_size=12,    # Set y-axis label font size\n",
    "    grid_alpha=0.3          # Reduce grid transparency\n",
    ")"
   ],
   "id": "70a20ef64aafd57b",
   "outputs": [
    {
     "data": {
      "text/plain": [
       "<Figure size 500x500 with 1 Axes>"
      ],
      "image/png": "[encoded data removed]"
     },
     "metadata": {},
     "output_type": "display_data"
    }
   ],
   "execution_count": 11
  },
  {
   "metadata": {},
   "cell_type": "markdown",
   "source": [
    "## 2. Creating Histograms with 2D Data\n",
    "- The Statistic class can also handle 2D data, creating multiple histograms in the same plot.\n",
    "- Let's generate some 2D data and create histograms."
   ],
   "id": "45924df8111964a0"
  },
  {
   "metadata": {},
   "cell_type": "markdown",
   "source": "#### Generate 2D data with 3 columns",
   "id": "9bc5fba9f438f179"
  },
  {
   "cell_type": "code",
   "id": "c300f971",
   "metadata": {
    "execution": {
     "iopub.execute_input": "2025-06-22T20:51:04.819739Z",
     "iopub.status.busy": "2025-06-22T20:51:04.819739Z",
     "iopub.status.idle": "2025-06-22T20:51:04.947342Z",
     "shell.execute_reply": "2025-06-22T20:51:04.947342Z"
    },
    "ExecuteTime": {
     "end_time": "2025-06-29T14:22:01.046308Z",
     "start_time": "2025-06-29T14:22:01.041893Z"
    }
   },
   "source": [
    "data_2d = np.zeros((200, 3))\n",
    "data_2d[:, 0] = 3 + np.random.normal(0, 1.0, 200)  # Mean of 3, std of 1.0\n",
    "data_2d[:, 1] = 5 + np.random.normal(0, 1.2, 200)  # Mean of 5, std of 1.2\n",
    "data_2d[:, 2] = 7 + np.random.normal(0, 0.8, 200)  # Mean of 7, std of 0.8"
   ],
   "outputs": [],
   "execution_count": 12
  },
  {
   "metadata": {},
   "cell_type": "markdown",
   "source": "#### Create a Statistic object with the 2D data",
   "id": "35e6f1fac638b9ad"
  },
  {
   "metadata": {
    "ExecuteTime": {
     "end_time": "2025-06-29T14:22:01.068782Z",
     "start_time": "2025-06-29T14:22:01.065797Z"
    }
   },
   "cell_type": "code",
   "source": "stat_plot_2d = StatisticalGlyph(data_2d)",
   "id": "5ce432d52d470c75",
   "outputs": [],
   "execution_count": 13
  },
  {
   "metadata": {},
   "cell_type": "markdown",
   "source": [
    "- Generate a histogram plot for the 2D data\n",
    "\n",
    "- Note: We need to provide colors for each column"
   ],
   "id": "a58ed22df58f0a76"
  },
  {
   "cell_type": "code",
   "id": "a193028f",
   "metadata": {
    "execution": {
     "iopub.execute_input": "2025-06-22T20:51:04.951712Z",
     "iopub.status.busy": "2025-06-22T20:51:04.951712Z",
     "iopub.status.idle": "2025-06-22T20:51:05.100845Z",
     "shell.execute_reply": "2025-06-22T20:51:05.100172Z"
    },
    "ExecuteTime": {
     "end_time": "2025-06-29T14:22:01.245337Z",
     "start_time": "2025-06-29T14:22:01.118141Z"
    }
   },
   "source": "fig_2d, ax_2d, hist_2d = stat_plot_2d.histogram(color=[\"red\", \"green\", \"blue\"])",
   "outputs": [
    {
     "data": {
      "text/plain": [
       "<Figure size 500x500 with 1 Axes>"
      ],
      "image/png": "[encoded data removed]"
     },
     "metadata": {},
     "output_type": "display_data"
    }
   ],
   "execution_count": 14
  },
  {
   "metadata": {},
   "cell_type": "markdown",
   "source": [
    "### 2.1 Customizing the 2D Histogram\n",
    "- Let's customize the 2D histogram with more options."
   ],
   "id": "9c32a9e1bee06e88"
  },
  {
   "metadata": {},
   "cell_type": "markdown",
   "source": "#### Create a Statistic object with the 2D data and custom parameters",
   "id": "aa96e51e34aff944"
  },
  {
   "metadata": {
    "ExecuteTime": {
     "end_time": "2025-06-29T14:22:01.283929Z",
     "start_time": "2025-06-29T14:22:01.277240Z"
    }
   },
   "cell_type": "code",
   "source": [
    "stat_plot_2d_custom = StatisticalGlyph(\n",
    "    data_2d,\n",
    "    color=[\"#FF5733\", \"#33FF57\", \"#3357FF\"],  # Custom colors\n",
    "    alpha=0.5,                                # Set transparency\n",
    "    rwidth=0.8                                # Set bin width\n",
    ")"
   ],
   "id": "7fd19b2719a92842",
   "outputs": [],
   "execution_count": 15
  },
  {
   "metadata": {},
   "cell_type": "markdown",
   "source": "#### Generate a customized histogram plot",
   "id": "170735dd26475c30"
  },
  {
   "cell_type": "code",
   "id": "c60dfc88",
   "metadata": {
    "execution": {
     "iopub.execute_input": "2025-06-22T20:51:05.103895Z",
     "iopub.status.busy": "2025-06-22T20:51:05.102897Z",
     "iopub.status.idle": "2025-06-22T20:51:05.317242Z",
     "shell.execute_reply": "2025-06-22T20:51:05.317242Z"
    },
    "ExecuteTime": {
     "end_time": "2025-06-29T14:22:01.479370Z",
     "start_time": "2025-06-29T14:22:01.314401Z"
    }
   },
   "source": [
    "fig_2d_custom, ax_2d_custom, hist_2d_custom = stat_plot_2d_custom.histogram(\n",
    "    bins=25,                # Increase the number of bins\n",
    "    xlabel=\"Values\",         # Add x-axis label\n",
    "    ylabel=\"Frequency\",      # Add y-axis label\n",
    "    xlabel_font_size=14,    # Set x-axis label font size\n",
    "    ylabel_font_size=14,    # Set y-axis label font size\n",
    "    xtick_font_size=10,     # Set x-axis tick font size\n",
    "    ytick_font_size=10,     # Set y-axis tick font size\n",
    "    grid_alpha=0.2,         # Reduce grid transparency\n",
    "    figsize=(10, 6)         # Set figure size\n",
    ")"
   ],
   "outputs": [
    {
     "data": {
      "text/plain": [
       "<Figure size 1000x600 with 1 Axes>"
      ],
      "image/png": "[encoded data removed]"
     },
     "metadata": {},
     "output_type": "display_data"
    }
   ],
   "execution_count": 16
  },
  {
   "metadata": {},
   "cell_type": "markdown",
   "source": [
    "## 3. Comparing Distributions\n",
    "- The Statistic class is particularly useful for comparing multiple distributions.\n",
    "- Let's create an example that compares different distributions."
   ],
   "id": "98b0132f2df2eb18"
  },
  {
   "metadata": {},
   "cell_type": "markdown",
   "source": "#### Generate data from different distributions",
   "id": "fefe7913aaa5da40"
  },
  {
   "metadata": {
    "ExecuteTime": {
     "end_time": "2025-06-29T14:22:01.488143Z",
     "start_time": "2025-06-29T14:22:01.483696Z"
    }
   },
   "cell_type": "code",
   "source": [
    "n_samples = 1000\n",
    "data_distributions = np.zeros((n_samples, 3))"
   ],
   "id": "e904f7b72be99701",
   "outputs": [],
   "execution_count": 17
  },
  {
   "metadata": {},
   "cell_type": "markdown",
   "source": "#### Normal distribution",
   "id": "8921efaa9d4388f4"
  },
  {
   "metadata": {
    "ExecuteTime": {
     "end_time": "2025-06-29T14:22:01.533872Z",
     "start_time": "2025-06-29T14:22:01.529308Z"
    }
   },
   "cell_type": "code",
   "source": "data_distributions[:, 0] = np.random.normal(0, 1, n_samples)",
   "id": "59229c6731932eb3",
   "outputs": [],
   "execution_count": 18
  },
  {
   "metadata": {},
   "cell_type": "markdown",
   "source": "#### Exponential distribution",
   "id": "6c4275f4953282b7"
  },
  {
   "metadata": {
    "ExecuteTime": {
     "end_time": "2025-06-29T14:22:01.552671Z",
     "start_time": "2025-06-29T14:22:01.547728Z"
    }
   },
   "cell_type": "code",
   "source": "data_distributions[:, 1] = np.random.exponential(1, n_samples)",
   "id": "e9de5c972da3c563",
   "outputs": [],
   "execution_count": 19
  },
  {
   "metadata": {},
   "cell_type": "markdown",
   "source": "#### Uniform distribution",
   "id": "7d89da10211ebdc2"
  },
  {
   "metadata": {
    "ExecuteTime": {
     "end_time": "2025-06-29T14:22:01.597234Z",
     "start_time": "2025-06-29T14:22:01.592490Z"
    }
   },
   "cell_type": "code",
   "source": "data_distributions[:, 2] = np.random.uniform(-1.5, 1.5, n_samples)",
   "id": "1956ae09f603182b",
   "outputs": [],
   "execution_count": 20
  },
  {
   "metadata": {},
   "cell_type": "markdown",
   "source": "#### Create a Statistic object with the distribution data",
   "id": "29b793024f625e60"
  },
  {
   "metadata": {
    "ExecuteTime": {
     "end_time": "2025-06-29T14:22:01.636136Z",
     "start_time": "2025-06-29T14:22:01.632270Z"
    }
   },
   "cell_type": "code",
   "source": [
    "stat_plot_distributions = StatisticalGlyph(\n",
    "    data_distributions,\n",
    "    color=[\"#3498DB\", \"#E74C3C\", \"#2ECC71\"],  # Blue, Red, Green\n",
    "    alpha=0.6,\n",
    "    rwidth=0.9\n",
    ")"
   ],
   "id": "72177ac58a041435",
   "outputs": [],
   "execution_count": 21
  },
  {
   "metadata": {},
   "cell_type": "markdown",
   "source": "#### Generate a histogram plot comparing the distributions",
   "id": "1693fa639b57bf8"
  },
  {
   "cell_type": "code",
   "id": "2f4c9d91",
   "metadata": {
    "execution": {
     "iopub.execute_input": "2025-06-22T20:51:05.323810Z",
     "iopub.status.busy": "2025-06-22T20:51:05.322810Z",
     "iopub.status.idle": "2025-06-22T20:51:05.588608Z",
     "shell.execute_reply": "2025-06-22T20:51:05.588608Z"
    },
    "ExecuteTime": {
     "end_time": "2025-06-29T14:22:01.896378Z",
     "start_time": "2025-06-29T14:22:01.668826Z"
    }
   },
   "source": [
    "fig_dist, ax_dist, hist_dist = stat_plot_distributions.histogram(\n",
    "    bins=30,\n",
    "    xlabel=\"Values\",\n",
    "    ylabel=\"Frequency\",\n",
    "    figsize=(12, 7)\n",
    ")\n",
    "\n",
    "# Add a legend to identify the distributions\n",
    "ax_dist.legend([\"Normal\", \"Exponential\", \"Uniform\"])"
   ],
   "outputs": [
    {
     "data": {
      "text/plain": [
       "<Figure size 1200x700 with 1 Axes>"
      ],
      "image/png": "[encoded data removed]"
     },
     "metadata": {},
     "output_type": "display_data"
    },
    {
     "data": {
      "text/plain": [
       "<matplotlib.legend.Legend at 0x1b8fb7a51f0>"
      ]
     },
     "execution_count": 22,
     "metadata": {},
     "output_type": "execute_result"
    }
   ],
   "execution_count": 22
  },
  {
   "metadata": {},
   "cell_type": "markdown",
   "source": [
    "## 4. Error Handling\n",
    "- The Statistic class includes error handling to ensure that the number of colors\n",
    "- provided matches the number of samples in the data.\n",
    "- Let's see what happens when we provide an incorrect number of colors."
   ],
   "id": "1ac676b1dd500f8f"
  },
  {
   "cell_type": "code",
   "id": "4b95f9bc",
   "metadata": {
    "execution": {
     "iopub.execute_input": "2025-06-22T20:51:05.591365Z",
     "iopub.status.busy": "2025-06-22T20:51:05.591365Z",
     "iopub.status.idle": "2025-06-22T20:51:05.679591Z",
     "shell.execute_reply": "2025-06-22T20:51:05.679591Z"
    },
    "ExecuteTime": {
     "end_time": "2025-06-29T14:22:01.983786Z",
     "start_time": "2025-06-29T14:22:01.905968Z"
    }
   },
   "source": [
    "try:\n",
    "    # Create a Statistic object with 2D data but only 2 colors for 3 columns\n",
    "    stat_plot_error = StatisticalGlyph(data_2d)\n",
    "    \n",
    "    # This should raise an error because we're providing only 2 colors for 3 columns\n",
    "    fig_error, ax_error, hist_error = stat_plot_error.histogram(color=[\"red\", \"green\"])\n",
    "except ValueError as e:\n",
    "    print(f\"Error: {e}\")"
   ],
   "outputs": [
    {
     "name": "stdout",
     "output_type": "stream",
     "text": [
      "Error: The number of colors:2 should be equal to the number of samples:3\n"
     ]
    },
    {
     "data": {
      "text/plain": [
       "<Figure size 500x500 with 1 Axes>"
      ],
      "image/png": "[encoded data removed]"
     },
     "metadata": {},
     "output_type": "display_data"
    }
   ],
   "execution_count": 23
  },
  {
   "metadata": {},
   "cell_type": "markdown",
   "source": [
    "# Summary\n",
    "In this notebook, we've explored the Statistic class from the Cleopatra package.\n",
    "We've seen how to:\n",
    "1. Create histograms for 1D data\n",
    "2. Create histograms for 2D data\n",
    "3. Customize histograms with various parameters\n",
    "4. Compare different distributions\n",
    "5. Handle errors when using the class\n",
    "\n",
    "The Statistic class provides a convenient way to create and customize histograms\n",
    "for statistical analysis and visualization."
   ],
   "id": "f84cc7e64cabb298"
  }
 ],
 "metadata": {
  "jupytext": {
   "cell_metadata_filter": "-all",
   "main_language": "python",
   "notebook_metadata_filter": "-all"
  },
  "language_info": {
   "codemirror_mode": {
    "name": "ipython",
    "version": 3
   },
   "file_extension": ".py",
   "mimetype": "text/x-python",
   "name": "python",
   "nbconvert_exporter": "python",
   "pygments_lexer": "ipython3",
   "version": "3.12.10"
  }
 },
 "nbformat": 4,
 "nbformat_minor": 5
}
