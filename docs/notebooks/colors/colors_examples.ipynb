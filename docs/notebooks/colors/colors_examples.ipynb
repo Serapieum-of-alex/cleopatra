{
    "cells": [
        {
            "metadata": {},
            "cell_type": "markdown",
            "source": "# Colors",
            "id": "1ec49abcc02f4b41"
        },
        {
            "metadata": {},
            "cell_type": "markdown",
            "source": [
                "- This script demonstrates the usage of the Colors class from the Cleopatra package.\n",
                "- The Colors class provides functionality for working with colors in different formats."
            ],
            "id": "ca731ad534fd2b4e"
        },
        {
            "metadata": {
                "execution": {
                    "iopub.execute_input": "2025-06-22T20:50:42.570588Z",
                    "iopub.status.busy": "2025-06-22T20:50:42.570588Z",
                    "iopub.status.idle": "2025-06-22T20:50:43.401725Z",
                    "shell.execute_reply": "2025-06-22T20:50:43.399708Z"
                },
                "ExecuteTime": {
                    "end_time": "2025-06-26T19:35:37.012614Z",
                    "start_time": "2025-06-26T19:35:37.008609Z"
                }
            },
            "cell_type": "code",
            "source": [
                "import matplotlib.pyplot as plt\n",
                "from cleopatra.colors import Colors"
            ],
            "id": "c49d5635",
            "outputs": [],
            "execution_count": 26
        },
        {
            "metadata": {},
            "cell_type": "markdown",
            "source": [
                "## 1. Initializing Colors with Different Formats\n",
                "The Colors class can be initialized with different color formats:\n",
                "- Hex color strings (e.g., \"#FF5733\")\n",
                "- Named colors (e.g., \"red\", \"blue\")\n",
                "- RGB tuples (e.g., (255, 0, 0) or (1.0, 0.0, 0.0))\n",
                "- Lists of any of the above"
            ],
            "id": "d3ed2273ab9d02b4"
        },
        {
            "metadata": {},
            "cell_type": "markdown",
            "source": "### 1.1 Initializing with Hex Colors",
            "id": "52c1d2704308346f"
        },
        {
            "metadata": {},
            "cell_type": "code",
            "outputs": [],
            "execution_count": null,
            "source": [
                "hex_color = Colors(\"#FF5733\")\n",
                "print(f\"Hex color: {hex_color.color_value}\") # pragma: allowlist secret"
            ],
            "id": "6df839269629a2f7"
        },
        {
            "metadata": {},
            "cell_type": "markdown",
            "source": "### 1.2 Initializing with Named Colors",
            "id": "3bdad0b8e65b94c"
        },
        {
            "metadata": {},
            "cell_type": "code",
            "outputs": [],
            "execution_count": null,
            "source": [
                "named_color = Colors(\"blue\")\n",
                "print(f\"Named color: {named_color.color_value}\")"
            ],
            "id": "33a55ed9075e6def"
        },
        {
            "metadata": {},
            "cell_type": "markdown",
            "source": "### 1.3 Initializing with RGB Tuples (0-255)",
            "id": "874a0e8d163d7d7e"
        },
        {
            "metadata": {},
            "cell_type": "code",
            "outputs": [],
            "execution_count": null,
            "source": [
                "rgb_color_255 = Colors((255, 0, 0))\n",
                "print(f\"RGB color (0-255): {rgb_color_255.color_value}\")"
            ],
            "id": "952a586b5a59dec"
        },
        {
            "metadata": {},
            "cell_type": "markdown",
            "source": "### 1.4 Initializing with RGB Tuples (0-1)",
            "id": "e9efeb2ddca8452c"
        },
        {
            "metadata": {},
            "cell_type": "code",
            "outputs": [],
            "execution_count": null,
            "source": [
                "rgb_color_norm = Colors((1.0, 0.0, 0.0))\n",
                "print(f\"RGB color (0-1): {rgb_color_norm.color_value}\")"
            ],
            "id": "685b66e354f0ccfd"
        },
        {
            "metadata": {},
            "cell_type": "markdown",
            "source": "### 1.5 Initializing with a List of Colors",
            "id": "315bc55eecffbaea"
        },
        {
            "metadata": {
                "ExecuteTime": {
                    "end_time": "2025-06-26T19:35:22.552022Z",
                    "start_time": "2025-06-26T19:35:22.541893Z"
                }
            },
            "cell_type": "code",
            "source": [
                "color_list = Colors([\"red\", \"green\", \"blue\"])\n",
                "print(f\"Color list: {color_list.color_value}\")"
            ],
            "id": "e0faa92d98b1c850",
            "outputs": [
                {
                    "name": "stdout",
                    "output_type": "stream",
                    "text": [
                        "Color list: ['red', 'green', 'blue']\n"
                    ]
                }
            ],
            "execution_count": 6
        },
        {
            "metadata": {},
            "cell_type": "markdown",
            "source": "## 2. Converting Colors to Hex Format",
            "id": "cf948a4330fff78e"
        },
        {
            "metadata": {},
            "cell_type": "markdown",
            "source": "- The to_hex() method converts colors to hexadecimal format.",
            "id": "32006fd78b58fefa"
        },
        {
            "metadata": {},
            "cell_type": "markdown",
            "source": "### 2.1 Converting a Named Color to Hex",
            "id": "c4469e4c4e45d33f"
        },
        {
            "metadata": {
                "ExecuteTime": {
                    "end_time": "2025-06-26T19:35:22.569379Z",
                    "start_time": "2025-06-26T19:35:22.565381Z"
                }
            },
            "cell_type": "code",
            "source": [
                "named_to_hex = Colors(\"purple\")\n",
                "hex_value = named_to_hex.to_hex()\n",
                "print(f\"Purple in hex: {hex_value}\")"
            ],
            "id": "417e0505ded4207f",
            "outputs": [
                {
                    "name": "stdout",
                    "output_type": "stream",
                    "text": [
                        "Purple in hex: ['purple']\n"
                    ]
                }
            ],
            "execution_count": 7
        },
        {
            "metadata": {},
            "cell_type": "markdown",
            "source": "### 2.2 Converting RGB to Hex",
            "id": "a69dd24ef2fbc8d0"
        },
        {
            "metadata": {
                "ExecuteTime": {
                    "end_time": "2025-06-26T19:35:22.605007Z",
                    "start_time": "2025-06-26T19:35:22.600924Z"
                }
            },
            "cell_type": "code",
            "source": [
                "rgb_to_hex = Colors((0, 128, 0))  # Green in RGB\n",
                "hex_value = rgb_to_hex.to_hex()\n",
                "print(f\"Green RGB in hex: {hex_value}\")"
            ],
            "id": "a2459b3ae8be7368",
            "outputs": [
                {
                    "name": "stdout",
                    "output_type": "stream",
                    "text": [
                        "Green RGB in hex: ['#008000']\n"
                    ]
                }
            ],
            "execution_count": 8
        },
        {
            "metadata": {},
            "cell_type": "markdown",
            "source": "### 2.3 Converting a List of Colors to Hex",
            "id": "bcb85af7235b33f3"
        },
        {
            "cell_type": "code",
            "id": "d91fccea",
            "metadata": {
                "execution": {
                    "iopub.execute_input": "2025-06-22T20:50:43.429600Z",
                    "iopub.status.busy": "2025-06-22T20:50:43.427082Z",
                    "iopub.status.idle": "2025-06-22T20:50:43.438609Z",
                    "shell.execute_reply": "2025-06-22T20:50:43.437070Z"
                },
                "ExecuteTime": {
                    "end_time": "2025-06-26T19:35:22.635870Z",
                    "start_time": "2025-06-26T19:35:22.630252Z"
                }
            },
            "source": [
                "colors_to_hex = Colors([\"red\", (0, 0, 255), \"#00FF00\"])\n",
                "hex_values = colors_to_hex.to_hex()\n",
                "print(f\"List of colors in hex: {hex_values}\")"
            ],
            "outputs": [
                {
                    "name": "stdout",
                    "output_type": "stream",
                    "text": [
                        "List of colors in hex: ['red', '#0000ff', '#00FF00']\n"
                    ]
                }
            ],
            "execution_count": 9
        },
        {
            "metadata": {},
            "cell_type": "markdown",
            "source": [
                "## 3. Converting Colors to RGB Format\n",
                "- The to_rgb() method converts colors to RGB format."
            ],
            "id": "9073926037609acd"
        },
        {
            "metadata": {},
            "cell_type": "markdown",
            "source": "### 3.1 Converting a Named Color to RGB (normalized)",
            "id": "3eb1258f297756c5"
        },
        {
            "metadata": {
                "ExecuteTime": {
                    "end_time": "2025-06-26T19:35:22.667868Z",
                    "start_time": "2025-06-26T19:35:22.663423Z"
                }
            },
            "cell_type": "code",
            "source": [
                "named_to_rgb = Colors(\"orange\")\n",
                "rgb_value = named_to_rgb.to_rgb(normalized=True)\n",
                "print(f\"Orange in normalized RGB: {rgb_value}\")\n"
            ],
            "id": "452ff39d0b151977",
            "outputs": [
                {
                    "name": "stdout",
                    "output_type": "stream",
                    "text": [
                        "Orange in normalized RGB: [(1.0, 0.6470588235294118, 0.0)]\n"
                    ]
                }
            ],
            "execution_count": 10
        },
        {
            "metadata": {},
            "cell_type": "markdown",
            "source": "### 3.2 Converting a Named Color to RGB (0-255)",
            "id": "b214a9e8f620194b"
        },
        {
            "metadata": {
                "ExecuteTime": {
                    "end_time": "2025-06-26T19:35:22.699266Z",
                    "start_time": "2025-06-26T19:35:22.695022Z"
                }
            },
            "cell_type": "code",
            "source": [
                "named_to_rgb_255 = Colors(\"orange\")\n",
                "rgb_value_255 = named_to_rgb_255.to_rgb(normalized=False)\n",
                "print(f\"Orange in RGB (0-255): {rgb_value_255}\")"
            ],
            "id": "c2b64fb0321bce9a",
            "outputs": [
                {
                    "name": "stdout",
                    "output_type": "stream",
                    "text": [
                        "Orange in RGB (0-255): [(255, 165, 0)]\n"
                    ]
                }
            ],
            "execution_count": 11
        },
        {
            "metadata": {},
            "cell_type": "markdown",
            "source": "### 3.3 Converting Hex to RGB",
            "id": "a4a090aa47f1c503"
        },
        {
            "metadata": {
                "ExecuteTime": {
                    "end_time": "2025-06-26T19:35:22.731236Z",
                    "start_time": "2025-06-26T19:35:22.727115Z"
                }
            },
            "cell_type": "code",
            "source": [
                "hex_to_rgb = Colors(\"#4287f5\")  # Blue-ish color\n",
                "rgb_value = hex_to_rgb.to_rgb(normalized=True)\n",
                "print(f\"#4287f5 in normalized RGB: {rgb_value}\")"
            ],
            "id": "c83cd0e9ded01179",
            "outputs": [
                {
                    "name": "stdout",
                    "output_type": "stream",
                    "text": [
                        "#4287f5 in normalized RGB: [(0.25882352941176473, 0.5294117647058824, 0.9607843137254902)]\n"
                    ]
                }
            ],
            "execution_count": 12
        },
        {
            "metadata": {},
            "cell_type": "markdown",
            "source": "### 3.4 Converting a List of Colors to RGB",
            "id": "8863882a6bf40f5d"
        },
        {
            "cell_type": "code",
            "id": "b46572cf",
            "metadata": {
                "execution": {
                    "iopub.execute_input": "2025-06-22T20:50:43.444131Z",
                    "iopub.status.busy": "2025-06-22T20:50:43.444131Z",
                    "iopub.status.idle": "2025-06-22T20:50:43.452326Z",
                    "shell.execute_reply": "2025-06-22T20:50:43.451820Z"
                },
                "ExecuteTime": {
                    "end_time": "2025-06-26T19:35:22.767772Z",
                    "start_time": "2025-06-26T19:35:22.763763Z"
                }
            },
            "source": [
                "colors_to_rgb = Colors([\"red\", \"#00FF00\", (0, 0, 255)])\n",
                "rgb_values = colors_to_rgb.to_rgb(normalized=True)\n",
                "print(f\"List of colors in normalized RGB: {rgb_values}\")"
            ],
            "outputs": [
                {
                    "name": "stdout",
                    "output_type": "stream",
                    "text": [
                        "List of colors in normalized RGB: [(1.0, 0.0, 0.0), (0.0, 1.0, 0.0), (0.0, 0.0, 1.0)]\n"
                    ]
                }
            ],
            "execution_count": 13
        },
        {
            "metadata": {},
            "cell_type": "markdown",
            "source": [
                "## 4. Checking Color Validity\n",
                "- The Colors class provides methods to check if colors are valid."
            ],
            "id": "2ae87ff32d8297b0"
        },
        {
            "metadata": {},
            "cell_type": "markdown",
            "source": "### 4.1 Checking if a Hex Color is Valid",
            "id": "e4a790d85f371274"
        },
        {
            "metadata": {
                "ExecuteTime": {
                    "end_time": "2025-06-26T19:35:22.807838Z",
                    "start_time": "2025-06-26T19:35:22.803433Z"
                }
            },
            "cell_type": "code",
            "source": [
                "valid_hex = Colors.is_valid_hex_i(\"#FF5733\")\n",
                "invalid_hex = Colors.is_valid_hex_i(\"#XYZ\")\n",
                "print(f\"Is #FF5733 a valid hex color? {valid_hex}\")\n",
                "print(f\"Is #XYZ a valid hex color? {invalid_hex}\")"
            ],
            "id": "16e24b60a404f9a0",
            "outputs": [
                {
                    "name": "stdout",
                    "output_type": "stream",
                    "text": [
                        "Is #FF5733 a valid hex color? True\n",
                        "Is #XYZ a valid hex color? False\n"
                    ]
                }
            ],
            "execution_count": 14
        },
        {
            "metadata": {},
            "cell_type": "markdown",
            "source": "### 4.2 Checking if an RGB Color is Valid (0-255)",
            "id": "2d110fc779fd8be4"
        },
        {
            "metadata": {
                "ExecuteTime": {
                    "end_time": "2025-06-26T19:35:22.848566Z",
                    "start_time": "2025-06-26T19:35:22.843805Z"
                }
            },
            "cell_type": "code",
            "source": [
                "valid_rgb_255 = Colors.is_valid_rgb_255((255, 0, 0))\n",
                "invalid_rgb_255 = Colors.is_valid_rgb_255((300, 0, 0))  # 300 is out of range\n",
                "print(f\"Is (255, 0, 0) a valid RGB color? {valid_rgb_255}\")\n",
                "print(f\"Is (300, 0, 0) a valid RGB color? {invalid_rgb_255}\")"
            ],
            "id": "a866d4251bb18ff5",
            "outputs": [
                {
                    "name": "stdout",
                    "output_type": "stream",
                    "text": [
                        "Is (255, 0, 0) a valid RGB color? True\n",
                        "Is (300, 0, 0) a valid RGB color? False\n"
                    ]
                }
            ],
            "execution_count": 15
        },
        {
            "metadata": {},
            "cell_type": "markdown",
            "source": "### 4.3 Checking if an RGB Color is Valid (0-1)",
            "id": "150d17ede3d1bf72"
        },
        {
            "metadata": {
                "ExecuteTime": {
                    "end_time": "2025-06-26T19:35:22.889165Z",
                    "start_time": "2025-06-26T19:35:22.884164Z"
                }
            },
            "cell_type": "code",
            "source": [
                "valid_rgb_norm = Colors.is_valid_rgb_norm((0.5, 0.5, 0.5))\n",
                "invalid_rgb_norm = Colors.is_valid_rgb_norm((1.5, 0.5, 0.5))  # 1.5 is out of range\n",
                "print(f\"Is (0.5, 0.5, 0.5) a valid normalized RGB color? {valid_rgb_norm}\")\n",
                "print(f\"Is (1.5, 0.5, 0.5) a valid normalized RGB color? {invalid_rgb_norm}\")"
            ],
            "id": "c7aa1b0a39c083d5",
            "outputs": [
                {
                    "name": "stdout",
                    "output_type": "stream",
                    "text": [
                        "Is (0.5, 0.5, 0.5) a valid normalized RGB color? True\n",
                        "Is (1.5, 0.5, 0.5) a valid normalized RGB color? False\n"
                    ]
                }
            ],
            "execution_count": 16
        },
        {
            "metadata": {},
            "cell_type": "markdown",
            "source": [
                "## 5. Getting the Type of Color\n",
                "- The get_type() method returns the type of color.\n"
            ],
            "id": "e835dc4664f1b7ea"
        },
        {
            "metadata": {},
            "cell_type": "markdown",
            "source": "### 5.1 Getting the Type of a Hex Color",
            "id": "9407555bed2cbd85"
        },
        {
            "metadata": {
                "ExecuteTime": {
                    "end_time": "2025-06-26T19:35:22.958238Z",
                    "start_time": "2025-06-26T19:35:22.954140Z"
                }
            },
            "cell_type": "code",
            "source": [
                "hex_color_type = Colors(\"#FF5733\")\n",
                "print(f\"Type of #FF5733: {hex_color_type.get_type()}\")"
            ],
            "id": "7b5a0c685736d26a",
            "outputs": [
                {
                    "name": "stdout",
                    "output_type": "stream",
                    "text": [
                        "Type of #FF5733: ['hex']\n"
                    ]
                }
            ],
            "execution_count": 17
        },
        {
            "metadata": {},
            "cell_type": "markdown",
            "source": "### 5.2 Getting the Type of a Named Color",
            "id": "b13d55e2ac6b37d5"
        },
        {
            "cell_type": "code",
            "id": "e7eada6a",
            "metadata": {
                "execution": {
                    "iopub.execute_input": "2025-06-22T20:50:43.457333Z",
                    "iopub.status.busy": "2025-06-22T20:50:43.456333Z",
                    "iopub.status.idle": "2025-06-22T20:50:43.467618Z",
                    "shell.execute_reply": "2025-06-22T20:50:43.466608Z"
                },
                "ExecuteTime": {
                    "end_time": "2025-06-26T19:35:23.003625Z",
                    "start_time": "2025-06-26T19:35:22.999629Z"
                }
            },
            "source": [
                "named_color_type = Colors(\"blue\")\n",
                "print(f\"Type of 'blue': {named_color_type.get_type()}\")"
            ],
            "outputs": [
                {
                    "name": "stdout",
                    "output_type": "stream",
                    "text": [
                        "Type of 'blue': ['hex']\n"
                    ]
                }
            ],
            "execution_count": 18
        },
        {
            "metadata": {},
            "cell_type": "markdown",
            "source": "### 5.3 Getting the Type of an RGB Color",
            "id": "3f9b75ebb2d359c5"
        },
        {
            "metadata": {
                "ExecuteTime": {
                    "end_time": "2025-06-26T19:35:23.047814Z",
                    "start_time": "2025-06-26T19:35:23.043547Z"
                }
            },
            "cell_type": "code",
            "source": [
                "rgb_color_type = Colors((255, 0, 0))\n",
                "print(f\"Type of (255, 0, 0): {rgb_color_type.get_type()}\")"
            ],
            "id": "aab653559b06bffe",
            "outputs": [
                {
                    "name": "stdout",
                    "output_type": "stream",
                    "text": [
                        "Type of (255, 0, 0): ['rgb']\n"
                    ]
                }
            ],
            "execution_count": 19
        },
        {
            "metadata": {},
            "cell_type": "markdown",
            "source": "### 5.4 Getting the Type of a List of Colors",
            "id": "10b468611ad78a00"
        },
        {
            "metadata": {
                "ExecuteTime": {
                    "end_time": "2025-06-26T19:35:23.089010Z",
                    "start_time": "2025-06-26T19:35:23.084563Z"
                }
            },
            "cell_type": "code",
            "source": [
                "color_list_type = Colors([\"red\", \"green\", \"blue\"])\n",
                "print(f\"Type of ['red', 'green', 'blue']: {color_list_type.get_type()}\")"
            ],
            "id": "b6015f0569be4091",
            "outputs": [
                {
                    "name": "stdout",
                    "output_type": "stream",
                    "text": [
                        "Type of ['red', 'green', 'blue']: ['hex', 'hex', 'hex']\n"
                    ]
                }
            ],
            "execution_count": 20
        },
        {
            "metadata": {},
            "cell_type": "markdown",
            "source": [
                "## 6. Visualizing Colors\n",
                "- Let's visualize some colors using matplotlib."
            ],
            "id": "f338167abf65b4a6"
        },
        {
            "metadata": {},
            "cell_type": "markdown",
            "source": "### 6.1 Create a list of colors",
            "id": "ed3aac92a92876ea"
        },
        {
            "metadata": {
                "ExecuteTime": {
                    "end_time": "2025-06-26T19:35:23.127214Z",
                    "start_time": "2025-06-26T19:35:23.123211Z"
                }
            },
            "cell_type": "code",
            "source": [
                "color_names = [\"red\", \"green\", \"blue\", \"yellow\", \"purple\", \"orange\", \"cyan\", \"magenta\"]\n",
                "colors_obj = Colors(color_names)\n",
                "hex_colors = colors_obj.to_hex()"
            ],
            "id": "b63a32dd3083b541",
            "outputs": [],
            "execution_count": 21
        },
        {
            "metadata": {},
            "cell_type": "markdown",
            "source": "### 6.2 Create a bar chart with these colors",
            "id": "a4c7ca797a0e343d"
        },
        {
            "cell_type": "code",
            "id": "d8cd8699",
            "metadata": {
                "execution": {
                    "iopub.execute_input": "2025-06-22T20:50:43.484660Z",
                    "iopub.status.busy": "2025-06-22T20:50:43.483662Z",
                    "iopub.status.idle": "2025-06-22T20:50:43.625018Z",
                    "shell.execute_reply": "2025-06-22T20:50:43.625018Z"
                },
                "ExecuteTime": {
                    "end_time": "2025-06-26T19:35:23.247901Z",
                    "start_time": "2025-06-26T19:35:23.161596Z"
                }
            },
            "source": [
                "plt.figure(figsize=(10, 6))\n",
                "bars = plt.bar(range(len(color_names)), [1] * len(color_names), color=hex_colors)\n",
                "\n",
                "# Add color names as labels\n",
                "for i, bar in enumerate(bars):\n",
                "    plt.text(bar.get_x() + bar.get_width()/2, 0.5, color_names[i], \n",
                "             ha='center', va='center', color='white' if color_names[i] in ['blue', 'purple'] else 'black')\n",
                "\n",
                "plt.title(\"Visualization of Different Colors\")\n",
                "plt.xticks([])\n",
                "plt.yticks([])\n",
                "plt.show()"
            ],
            "outputs": [
                {
                    "data": {
                        "text/plain": [
                            "<Figure size 1000x600 with 1 Axes>"
                        ],
                        "image/png": "[encoded data removed]"
                    },
                    "metadata": {},
                    "output_type": "display_data"
                }
            ],
            "execution_count": 22
        },
        {
            "metadata": {},
            "cell_type": "markdown",
            "source": [
                "## 7. Creating a Custom Color Palette\n",
                "- Let's create a custom color palette and visualize it."
            ],
            "id": "8d0181856b209d88"
        },
        {
            "metadata": {},
            "cell_type": "markdown",
            "source": "### 7.1 Define a list of custom colors",
            "id": "c781ddcebd7943f2"
        },
        {
            "metadata": {
                "ExecuteTime": {
                    "end_time": "2025-06-26T19:35:23.268036Z",
                    "start_time": "2025-06-26T19:35:23.263909Z"
                }
            },
            "cell_type": "code",
            "source": [
                "custom_colors = [\n",
                "    \"#1f77b4\",  # Blue\n",
                "    \"#ff7f0e\",  # Orange\n",
                "    \"#2ca02c\",  # Green\n",
                "    \"#d62728\",  # Red\n",
                "    \"#9467bd\",  # Purple\n",
                "    \"#8c564b\",  # Brown\n",
                "    \"#e377c2\",  # Pink\n",
                "    \"#7f7f7f\"   # Gray\n",
                "]"
            ],
            "id": "1a07eaff373be336",
            "outputs": [],
            "execution_count": 23
        },
        {
            "metadata": {},
            "cell_type": "markdown",
            "source": "### 7.2 Create a Colors object and convert to RGB",
            "id": "9718cc5c1b7f2216"
        },
        {
            "metadata": {
                "ExecuteTime": {
                    "end_time": "2025-06-26T19:35:23.306907Z",
                    "start_time": "2025-06-26T19:35:23.303401Z"
                }
            },
            "cell_type": "code",
            "source": [
                "custom_palette = Colors(custom_colors)\n",
                "rgb_palette = custom_palette.to_rgb(normalized=True)"
            ],
            "id": "8e6a2386f74b4852",
            "outputs": [],
            "execution_count": 24
        },
        {
            "metadata": {},
            "cell_type": "markdown",
            "source": "### 7.3 Visualize the palette",
            "id": "4ae64840ac76736f"
        },
        {
            "cell_type": "code",
            "id": "bd917df1",
            "metadata": {
                "execution": {
                    "iopub.execute_input": "2025-06-22T20:50:43.630998Z",
                    "iopub.status.busy": "2025-06-22T20:50:43.630998Z",
                    "iopub.status.idle": "2025-06-22T20:50:43.735191Z",
                    "shell.execute_reply": "2025-06-22T20:50:43.735191Z"
                },
                "ExecuteTime": {
                    "end_time": "2025-06-26T19:35:23.395661Z",
                    "start_time": "2025-06-26T19:35:23.326808Z"
                }
            },
            "source": [
                "plt.figure(figsize=(10, 6))\n",
                "bars = plt.bar(range(len(custom_colors)), [1] * len(custom_colors), color=custom_colors)\n",
                "\n",
                "# Add RGB values as labels\n",
                "for i, bar in enumerate(bars):\n",
                "    rgb_values = [round(val, 2) for val in rgb_palette[i]]\n",
                "    plt.text(bar.get_x() + bar.get_width()/2, 0.5, str(rgb_values), \n",
                "             ha='center', va='center', color='white' if i in [0, 2, 4, 5] else 'black')\n",
                "\n",
                "plt.title(\"Custom Color Palette with RGB Values\")\n",
                "plt.xticks([])\n",
                "plt.yticks([])\n",
                "plt.show()"
            ],
            "outputs": [
                {
                    "data": {
                        "text/plain": [
                            "<Figure size 1000x600 with 1 Axes>"
                        ],
                        "image/png": "[encoded data removed]"
                    },
                    "metadata": {},
                    "output_type": "display_data"
                }
            ],
            "execution_count": 25
        },
        {
            "metadata": {},
            "cell_type": "markdown",
            "source": [
                "# Summary\n",
                "In this notebook, we've explored the Colors class from the Cleopatra package.\n",
                "We've seen how to:\n",
                "1. Initialize the Colors class with different color formats\n",
                "2. Convert colors to hexadecimal format\n",
                "3. Convert colors to RGB format\n",
                "4. Check if colors are valid\n",
                "5. Get the type of color\n",
                "6. Visualize colors\n",
                "7. Create custom color palettes\n",
                "\n",
                "The Colors class provides a convenient way to work with colors in different formats\n",
                "for data visualization and plotting."
            ],
            "id": "5af84045082b4cfd"
        }
    ],
    "metadata": {
        "jupytext": {
            "cell_metadata_filter": "-all",
            "main_language": "python",
            "notebook_metadata_filter": "-all"
        },
        "language_info": {
            "codemirror_mode": {
                "name": "ipython",
                "version": 3
            },
            "file_extension": ".py",
            "mimetype": "text/x-python",
            "name": "python",
            "nbconvert_exporter": "python",
            "pygments_lexer": "ipython3",
            "version": "3.12.10"
        }
    },
    "nbformat": 4,
    "nbformat_minor": 5
}
